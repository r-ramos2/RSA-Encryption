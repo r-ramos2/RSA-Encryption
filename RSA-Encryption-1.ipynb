{
 "cells": [
  {
   "cell_type": "markdown",
   "metadata": {},
   "source": [
    "## RSA Encryption"
   ]
  },
  {
   "cell_type": "markdown",
   "metadata": {},
   "source": [
    "<hr />\n",
    "\n",
    "# Table of Contents\n",
    "\n",
    "### 1. Introduction  (5 points)\n",
    "\n",
    "### 2. RSA Code Package    (10 points)\n",
    "###### &nbsp;&nbsp;&nbsp;&nbsp;&nbsp;&nbsp; 2.1 Basic tool set\n",
    "###### &nbsp;&nbsp;&nbsp;&nbsp;&nbsp;&nbsp; 2.2 First tool set\n",
    "###### &nbsp;&nbsp;&nbsp;&nbsp;&nbsp;&nbsp; 2.3 Second tool set\n",
    "\n",
    "### 3. RSA More Code  (10 points)\n",
    "\n",
    "###### &nbsp;&nbsp;&nbsp;&nbsp;&nbsp;&nbsp;  Encode\n",
    "###### &nbsp;&nbsp;&nbsp;&nbsp;&nbsp;&nbsp;  Decode\n",
    "\n",
    "### 4. Show a demo of encoding and decoding a message that highlights how your code works and the steps involved.   (20points)\n",
    "\n",
    "### 5. Project Narrative AND results of exchanging codes with others.  (20 points)\n",
    "\n",
    "### 6. Testing and comparing FME to mod.       (10 points)\n",
    "\n",
    "### Points for 7 - 8 only available if the student is exchanging messages by the Friday (midnight) before the project is due.\n",
    "\n",
    "### 7. Breaking codes without a private key    (10 points)\n",
    "\n",
    "### 8. Advanced options (15 points) Needed to get 100%.\n",
    "\n",
    "\n",
    "\n",
    "\n",
    "\n",
    "\n",
    "\n",
    "\n"
   ]
  },
  {
   "cell_type": "markdown",
   "metadata": {},
   "source": []
  },
  {
   "cell_type": "markdown",
   "metadata": {},
   "source": []
  },
  {
   "cell_type": "markdown",
   "metadata": {},
   "source": []
  },
  {
   "cell_type": "markdown",
   "metadata": {},
   "source": [
    "\n",
    "\n",
    "\n",
    "\n",
    "\n"
   ]
  },
  {
   "cell_type": "markdown",
   "metadata": {},
   "source": [
    "\n",
    "\n",
    "\n",
    "\n",
    "\n",
    "\n",
    "### 1. Introduction to your RSA Package and Project.  Give an overview of your project and what you have learned. "
   ]
  },
  {
   "cell_type": "markdown",
   "metadata": {},
   "source": [
    "Put introduction/overview here. This should be something someone who has never seen your project could read to understand what is coming. \n"
   ]
  },
  {
   "cell_type": "markdown",
   "metadata": {},
   "source": [
    "\"\"\"\n",
    "In computer science, RSA is an encryption and decryption method used to lock and unlock inverse operations. Thus, instead of sending millions upon millions of encrypted keys to clients, the brilliance of this practice lies in the key provider sharing a single open lock with all clients, who can then encrypt such their message and send it back to the provider, who, with the original key, can unlock the message. Whereas encoding a message is relatively simple, it is extremely difficult, if not impossible, to decode it, as the key required is held by the person who created the lock, in what could be thought of as a trapdoor.\n",
    "\n",
    "This self-learning experience has taught me a lot about programming in Python. For example, now I possess the knowledge to build programs that convert text strings to and fro ASCII values, transform integers into binary format, speed up modular exponentiation when calculating gargantuan numerical values and without sacrificing processing speed, encoding and decoding messages by sharing public and private keys, figuring out private keys through factorization, understanding the importance of creating secure code that protects valuable information, implementing code by means of elegant mathematical principles instead of simple code, and most fun of all, creating an interactive menu with the code presented in this project. I hope you enjoy working playing around with my code as much as I did when building it. I hope to continue improving this code as I gain more experience with Python.\n",
    "\n",
    "In this project, my goal is to show the user how to encode and decode messages to and fro with fellow users. This information will be presented in blocks of code that have been labeled in the simplest way that I could find, both for the benefit of the user and my own to use for future reference. The Python code presented here has been built with information gathered from various sources, from the textbook Discrete Mathematics and Its Applications by Kenneth Rosen (7e) to video lectures provided by CU Boulder professors, from exchanging ideas with my classmates in Piazza to some background knowledge that I learned through Python courses by Udemy and Codecademy, and from a few not-so-well-explained YouTube tutorials from which I managed to put ideas together through good use of pencil, paper, and a pinch of creativity.\n",
    "\"\"\""
   ]
  },
  {
   "cell_type": "markdown",
   "metadata": {},
   "source": [
    "### 2.1\n",
    "#### Basic tool set\n",
    "\n",
    "These are functions that you'll need to pre-process the messages before the messages are encoded and decoded by the RSA algorithm. That is the reason we will be defining them first.\n",
    "\n"
   ]
  },
  {
   "cell_type": "code",
   "execution_count": 1,
   "metadata": {},
   "outputs": [
    {
     "name": "stdout",
     "output_type": "stream",
     "text": [
      "Enter text string to convert to ASCII list:  hello\n"
     ]
    },
    {
     "name": "stdout",
     "output_type": "stream",
     "text": [
      "[104, 101, 108, 108, 111]\n"
     ]
    }
   ],
   "source": [
    "def Convert_Text(_string):\n",
    "    # Convert and organize text string to ASCII values\n",
    "    Convert_Text = [ord(character) for character in _string]\n",
    "    return Convert_Text\n",
    "\n",
    "\n",
    "# Function call\n",
    "_string = input(\"Enter text string to convert to ASCII list: \") \n",
    "print(Convert_Text(_string))"
   ]
  },
  {
   "cell_type": "code",
   "execution_count": 2,
   "metadata": {},
   "outputs": [
    {
     "name": "stdout",
     "output_type": "stream",
     "text": [
      "hello\n"
     ]
    }
   ],
   "source": [
    "def Convert_Num(_list):\n",
    "    _string = ''  # Assing value to _string\n",
    "\n",
    "    # Convert each subsequent ASCII value to text string\n",
    "    for i in _list:\n",
    "        _string += chr(i)\n",
    "    return _string\n",
    "\n",
    "\n",
    "# Function call\n",
    "# Driver code needs user to enter ASCII values separated by comma\n",
    "_list = [104, 101, 108, 108, 111]\n",
    "# Join each converted charachter into one string\n",
    "Convert_Num = ''.join([chr(ascii) for ascii in _list])\n",
    "print(Convert_Num)"
   ]
  },
  {
   "cell_type": "code",
   "execution_count": 3,
   "metadata": {},
   "outputs": [
    {
     "name": "stdout",
     "output_type": "stream",
     "text": [
      "Enter integer to convert to binary =  35\n"
     ]
    },
    {
     "name": "stdout",
     "output_type": "stream",
     "text": [
      "100011"
     ]
    }
   ],
   "source": [
    "def Convert_Binary_String(_int):\n",
    "    # Convert integer value to binary\n",
    "    if _int > 1:\n",
    "        Convert_Binary_String(_int // 2) # Divides int/2\n",
    "    print(_int % 2, end='') # Concactenate mod values into string\n",
    "\n",
    "\n",
    "# Function call\n",
    "_int = int(input(\"Enter integer to convert to binary = \"))\n",
    "Convert_Binary_String(_int)"
   ]
  },
  {
   "cell_type": "markdown",
   "metadata": {},
   "source": [
    "Now that you're done with the basic toolset we'll move on to the first tool set which is actually involved in the RSA system."
   ]
  },
  {
   "cell_type": "markdown",
   "metadata": {},
   "source": [
    "### 2.2 \n",
    "#### First tool set.\n",
    "\n"
   ]
  },
  {
   "cell_type": "code",
   "execution_count": 4,
   "metadata": {},
   "outputs": [
    {
     "name": "stdout",
     "output_type": "stream",
     "text": [
      "Enter value of a =  2\n",
      "Enter value of n =  5\n",
      "Enter value of b =  7\n"
     ]
    },
    {
     "name": "stdout",
     "output_type": "stream",
     "text": [
      "The result is = 4\n"
     ]
    }
   ],
   "source": [
    "def power(a, n, b):  # Fast Modular Exponentiation using (a^n)%b\n",
    "    result = 1  # Initialize result variable\n",
    "\n",
    "    a = a % b  # If square a is greater than or equal to mod b, assign a\n",
    "\n",
    "    if (a == 0):  # a must not be zero\n",
    "        return 0\n",
    "\n",
    "    while (n > 0):\n",
    "        if ((n & 1) == 1):\n",
    "            result = (result * a) % b  # If n is odd, multiply a with result\n",
    "        n = n >> 1  # If n is even, then n = n/2\n",
    "        a = (a * a) % b  # Modulo equation\n",
    "    return result\n",
    "\n",
    "\n",
    "# Function call\n",
    "a = int(input(\"Enter value of a = \"))\n",
    "n = int(input(\"Enter value of n = \"))\n",
    "b = int(input(\"Enter value of b = \"))\n",
    "print(\"The result is =\", power(a, n, b))"
   ]
  },
  {
   "cell_type": "code",
   "execution_count": 5,
   "metadata": {},
   "outputs": [
    {
     "name": "stdout",
     "output_type": "stream",
     "text": [
      "Enter value of n =  59\n",
      "Enter value of m =  43\n"
     ]
    },
    {
     "name": "stdout",
     "output_type": "stream",
     "text": [
      "GCD ( 59 , 43 ) = sm + tn = ( -8 ) ( 59 ) + ( 11 ) ( 43 ) = 1\n"
     ]
    }
   ],
   "source": [
    "def extended_gcd(n, m):  # Extended Euclidean Algorithm\n",
    "    if n == 0:  # choose value n not equal to zero\n",
    "        return m, 0, 1\n",
    "\n",
    "    gcd, s1, t1 = extended_gcd(m % n, n)  # Assign initial values\n",
    "\n",
    "    # s2 and t2 will acquire new value from s1 and t1 at every loop\n",
    "    s2 = t1 - (m // n) * s1\n",
    "    t2 = s1\n",
    "    return gcd, s2, t2\n",
    "\n",
    "\n",
    "# Function call\n",
    "n = int(input(\"Enter value of n = \"))\n",
    "m = int(input(\"Enter value of m = \"))\n",
    "gcd, s2, t2 = extended_gcd(n, m)\n",
    "print(\"GCD\", \"(\", n, \",\", m, \")\", \"= sm + tn =\", \"(\", s2, \")\",\n",
    "      \"(\", n, \")\", \"+\", \"(\", t2, \")\", \"(\", m, \")\", \"=\", gcd, )"
   ]
  },
  {
   "cell_type": "markdown",
   "metadata": {},
   "source": [
    "### 2.3\n",
    "#### Second tool set\n",
    "\n",
    "Here we will implement the meat of the RSA cryptosystem. The functions below will generate the public and private key pairs which will then be used to create a ciphertext using the public key and then decode the same using the pirvate key.\n",
    "\n"
   ]
  },
  {
   "cell_type": "code",
   "execution_count": 82,
   "metadata": {},
   "outputs": [
    {
     "name": "stdout",
     "output_type": "stream",
     "text": [
      "Enter first prime number =  101\n",
      "Enter second prime number =  71\n"
     ]
    },
    {
     "name": "stdout",
     "output_type": "stream",
     "text": [
      "Public Key n = 7171\n",
      "Public Key Phi n = 7000\n",
      "Public Key e = 37\n"
     ]
    }
   ],
   "source": [
    "def Find_Public_Key_e(p, q):\n",
    "    # Return public key e using Phi n equation\n",
    "    for e in range(1, p):\n",
    "        if (((p % q) * (e % q)) % q == 1):\n",
    "            return e\n",
    "    return -1\n",
    "\n",
    "\n",
    "# Function call\n",
    "p = int(input(\"Enter first prime number = \"))\n",
    "q = int(input(\"Enter second prime number = \"))\n",
    "n = p * q\n",
    "phi_n = (p-1) * (q-1)\n",
    "print(\"Public Key n =\", n, )\n",
    "print(\"Public Key Phi n =\", phi_n, )\n",
    "print(\"Public Key e =\",Find_Public_Key_e(q, p))"
   ]
  },
  {
   "cell_type": "code",
   "execution_count": 81,
   "metadata": {},
   "outputs": [
    {
     "name": "stdout",
     "output_type": "stream",
     "text": [
      "Enter value of phi_n =  7000\n",
      "Enter value of e =  37\n"
     ]
    },
    {
     "name": "stdout",
     "output_type": "stream",
     "text": [
      "Private Key d = 3973\n"
     ]
    }
   ],
   "source": [
    "def Find_Private_Key_d(phi_n, e):\n",
    "    # Return private key d using Phi n equation\n",
    "    for d in range(1, phi_n):\n",
    "        if (((e % phi_n) * (d % phi_n)) % phi_n == 1):\n",
    "            return d\n",
    "    return -1\n",
    "\n",
    "\n",
    "# Function call\n",
    "phi_n = int(input(\"Enter value of phi_n = \"))\n",
    "e = int(input(\"Enter value of e = \"))\n",
    "print(\"Private Key d =\",Find_Private_Key_d(phi_n, e))"
   ]
  },
  {
   "cell_type": "markdown",
   "metadata": {},
   "source": [
    "### 3.\n",
    "#### Putting things all together.\n",
    "\n",
    "1. In this part, you will define two functions `Encode` and `Decode` which will use the public and private keys that you calculated using the above 2 functions in the second toolset.\n",
    "2. Using the public key, the `Encode` function will encode a message and generate the corresponding cipher_text.\n",
    "3. Using the private key, the `Decode` function will decode a ciper_text and recover the original message.\n",
    "\n"
   ]
  },
  {
   "cell_type": "code",
   "execution_count": 12,
   "metadata": {},
   "outputs": [
    {
     "name": "stdout",
     "output_type": "stream",
     "text": [
      "Enter a single ASCII value =  104\n",
      "Enter value of n =  13\n",
      "Enter value of e =  7\n"
     ]
    },
    {
     "name": "stdout",
     "output_type": "stream",
     "text": [
      "Encoded message = 0\n"
     ]
    }
   ],
   "source": [
    "def power(ascii_value, e, n): # Fast Modular Exponentiation using (ascii_value^n)%b\n",
    "    cipher_text = 1 # Initialize result variable\n",
    "    \n",
    "    # If square ascii_value is greater than or equal to mod n, assign ascii_value\n",
    "    ascii_value = ascii_value % n\n",
    "\n",
    "    if (ascii_value == 0):  # ascii_value value must not be zero\n",
    "        return 0\n",
    "\n",
    "    while (e > 0):\n",
    "        if ((e & 1) == 1):\n",
    "            cipher_text = (cipher_text * ascii_value) % n # If n is odd, multiply cipher_text with ascii_value\n",
    "        e = e >> 1  # If n is even, then e = e/2\n",
    "        ascii_value = (ascii_value * ascii_value) % n # Modulo equation\n",
    "    return cipher_text\n",
    "\n",
    "\n",
    "# Function call\n",
    "ascii_value = int(input(\"Enter a single ASCII value = \"))\n",
    "n = int(input(\"Enter value of n = \"))\n",
    "e = int(input(\"Enter value of e = \"))\n",
    "print(\"Encoded message =\", power(ascii_value, e, n))"
   ]
  },
  {
   "cell_type": "code",
   "execution_count": 75,
   "metadata": {},
   "outputs": [
    {
     "name": "stdout",
     "output_type": "stream",
     "text": [
      "Enter value of cipher_text =  123\n",
      "Enter value of n =  13\n",
      "Enter value of d =  2\n"
     ]
    },
    {
     "name": "stdout",
     "output_type": "stream",
     "text": [
      "Decoded message = 10\n"
     ]
    }
   ],
   "source": [
    "def power(cipher_text, d, n): # Fast Modular Exponentiation using (cipher_text^d)%n\n",
    "    message = 1 # Initialize message variable\n",
    "    \n",
    "    # If square cipher_text is greater than or equal to mod n, assign cipher_text\n",
    "    cipher_text = cipher_text % n\n",
    "    \n",
    "    if (cipher_text == 0):  # cipher_text value must not be zero\n",
    "        return 0\n",
    "\n",
    "    while (d > 0):\n",
    "        if ((d & 1) == 1):\n",
    "            message = (message * cipher_text) % n # If d is odd, multiply message with cipher_text\n",
    "        d = d >> 1  # If d is even, then d = d/2\n",
    "        cipher_text = (cipher_text * cipher_text) % n # Modulo equation\n",
    "    return message\n",
    "\n",
    "\n",
    "# Function call\n",
    "cipher_text = int(input(\"Enter value of cipher_text = \"))\n",
    "n = int(input(\"Enter value of n = \"))\n",
    "d = int(input(\"Enter value of d = \"))\n",
    "print(\"Decoded message =\", power(cipher_text, d, n))"
   ]
  },
  {
   "cell_type": "markdown",
   "metadata": {},
   "source": [
    "### 4.  Demonstrate how your RSA works below using a mix of text and code blocks that make it clear to the reader how this works and why you chose to put it together the way you did:\n",
    "\n",
    "* This is a step by step guide to using your code with a specific example that I can follow.\n",
    "\n",
    "* Encode a message (including generating keys).\n",
    "\n",
    "* Publish your public key and message to Piazza.\n",
    "\n",
    "* Decode messages from Piazza.\n",
    "\n",
    "* Test!\n",
    "\n",
    "\n",
    "\n"
   ]
  },
  {
   "cell_type": "code",
   "execution_count": null,
   "metadata": {},
   "outputs": [
    {
     "name": "stdout",
     "output_type": "stream",
     "text": [
      "Choose number option: 1=Get keys 2=Encode 3=Decode 4=Text to ASCII 5=ASCII to text  1\n"
     ]
    },
    {
     "name": "stdout",
     "output_type": "stream",
     "text": [
      "Get keys: \n"
     ]
    }
   ],
   "source": [
    "# CUSTOME FEATURE - MAIN FUNCTION\n",
    "\n",
    "# THE DEFINED FUNCTIONS BELOW THIS LINE ARE NEEDED FOR MAIN FUNCTION\n",
    "# NOTICE THAT THE FUNCTIONS BEFORE AND AFTER THE MAIN FUNCTION ARE COPIES OF THE CODE BLOCKS SHOWN EARLIER\n",
    "# THE DEFINED HALVES ARE CONTAINED ABOVE THE MAIN FUNCTION, AND THE FUNCTION CALLS ARE AFTER\n",
    "\n",
    "# THIS PROGRAM WORKS BY CLICKING ON THE COMPILE BUTTON IN THE MENU ABOVE\n",
    "# YOU SHOULD SEE A FIVE-OPTION INTERACTIVE MENU DEPENDING ON YOUR NEEDS\n",
    "# IF YOU WOULD LIKE TO RE-RUN PROGRAM, CLICK CLICK SQUARE BUTTON NEXT TO COMPILE\n",
    "\n",
    "\n",
    "# Example 1: One of my encoded Piazza messages\n",
    "\n",
    "# 1. Compile the program and choose number option 4=Text to ASCII\n",
    "# 2. Enter phrase \"E.T. phone home\"\n",
    "# 3. You will get ASCII values [69, 46, 84, 46, 32, 112, 104, 111, 110, 101, 32, 104, 111, 109, 101] \n",
    "# 4. Compile the program and choose number option 1=Get keys\n",
    "# 5. Assign p = 241 and q = 199 (should be non identical, I like p > q, and negative values are hard to work with) \n",
    "# 6. You will get keys n = 47959, e = 109, and d = 35749 to share so someone else can decode message\n",
    "# 7. For simplicity, I have included n = 47959 and e = 109, so user does not need to enter them each time\n",
    "# 8. I found it very convenient to use the \"Find and Replace\" option in Microsoft Word to find the encoded values more quickly\n",
    "\n",
    "\n",
    "# Example 2: Decoding the response to my message above\n",
    "\n",
    "# 1. Student posted the following encoded message: [14675, 23104, 8486, 45897, 44193, 16512, 23104, 12922, 16512, 44193, 16512, 19804, 23104, 35176, 45897, 36109, 30495, 8486, 16512, 22837, 23104, 36109, 8486, 45897, 36109, 23104, 18913, 12922, 16512, 23104, 24549, 19804, 18913, 44659, 23104, 8806, 36109, 45897, 19804, 36109, 23104, 36109, 18913, 23104, 24549, 31709, 12922, 31709, 8806, 8486, 23104, 31709, 24549, 23104, 35547, 18913, 824, 23104, 30495, 45897, 12922, 23104, 42989, 16512, 29937, 31709, 16512, 44193, 16512, 23104, 31709, 36109, 14887, 23104, 23104, 15115, 44193, 16512, 12922, 23104, 36109, 8486, 18913, 824, 44690, 8486, 23104, 14675, 28686, 44659, 23104, 45897, 23104, 30495, 8486, 31709, 29937, 22837, 23104, 18913, 24549, 23104, 36109, 8486, 16512, 23104, 16512, 31709, 44690, 8486, 36109, 31709, 16512, 8806]\n",
    "# 2. I found no easy way to convert all encoded values into ASCII or text at once, so this must be done letter by letter\n",
    "# 3. Compile the program and choose number option 3=Decode\n",
    "# 4. Enter each individual value inside the brackets [] to get ASCII value\n",
    "# 5. For simplicity, I have included n = 47959 and d = 35749, so user does not need to enter them each time\n",
    "# 6. For example, encoded 14675 is equivalent to ASCII value 73\n",
    "# 7. I found it very convenient to use the \"Find and Replace\" option in Microsoft Word to find these values more quickly\n",
    "# 8. For example, you can replace all values 14675 for 73, and so on, until you are only left with ASCII values\n",
    "# 9. Paste the list of ASCII values into bracket assigned to \"_list\" under \"elif selection == 5\"\n",
    "#10. Compile the program and choose number option 5=ASCII to text\n",
    "#11. Student's decoded message is, \"I have never watched that one from start to finish if you can believe it, even though I'm a child of the eighties\"\n",
    "#12. Be careful when finding other user's private key d, as they may choose a different public key for e depending on their own RSA program, and you may end up needing the individual code boxes for public and private key presented in the beginning of this project\n",
    "#13. Make sure that you change both n and d when decoding a message\n",
    "\n",
    "def Find_Public_Key_e(p, q):\n",
    "    # Return public key e using phi and modulo\n",
    "    for e in range(1, p):\n",
    "        if (((p % q) * (e % q)) % q == 1):\n",
    "            return e\n",
    "    return -1\n",
    "\n",
    "def Find_Private_Key_d(phi_n, e):\n",
    "    # Return private key d using phi n and modulo\n",
    "    for d in range(1, phi_n):\n",
    "        if (((e % phi_n) * (d % phi_n)) % phi_n == 1):\n",
    "            return d\n",
    "    return -1\n",
    "\n",
    "def Convert_Text(_string):\n",
    "    # Convert and organize text string to ASCII values\n",
    "    Convert_Text = [ord(character) for character in _string]\n",
    "    return Convert_Text\n",
    "\n",
    "def Convert_Num(_list):\n",
    "    _string = ''  # Assing value to _string\n",
    "\n",
    "    # Convert each subsequent ASCII value to text\n",
    "    for i in _list:\n",
    "        _string += chr(i)\n",
    "    return _string\n",
    "\n",
    "def power(ascii_value, e, n): # Fast Modular Exponentiation using (message^n)%b\n",
    "    cipher_text = 1 # Initialize result variable\n",
    "    \n",
    "    # If square message is greater than or equal to mod n, assign message\n",
    "    ascii_value = ascii_value % n\n",
    "\n",
    "    if (ascii_value == 0):  # Message value must not be zero\n",
    "        return 0\n",
    "\n",
    "    while (e > 0):\n",
    "        if ((e & 1) == 1):\n",
    "            cipher_text = (cipher_text * ascii_value) % n # If n is odd, multiply a with result\n",
    "        e = e >> 1  # If n is even, then e = e/2\n",
    "        ascii_value = (ascii_value * ascii_value) % n # Modulo equation\n",
    "    return cipher_text\n",
    "\n",
    "\n",
    "def power(cipher_text, d, n): # Fast Modular Exponentiation using (cipher_text^d)%n\n",
    "    message = 1 # Initialize result variable\n",
    "    \n",
    "    # If square cipher_text is greater than or equal to mod n, assign cipher_text\n",
    "    cipher_text = cipher_text % n\n",
    "    \n",
    "    if (cipher_text == 0):  # cipher_text value must not be zero\n",
    "        return 0\n",
    "\n",
    "    while (d > 0):\n",
    "        if ((d & 1) == 1):\n",
    "            message = (message * cipher_text) % n # If d is odd, multiply a with result\n",
    "        d = d >> 1  # If d is even, then d = d/2\n",
    "        cipher_text = (cipher_text * cipher_text) % n # Modulo equation\n",
    "    return message\n",
    "\n",
    "\n",
    "\n",
    "# BELOW THIS LINE IS THE MAIN FUNCTION THAT CALL ON FUNCTIONS ABOVE #\n",
    "\n",
    "def main():\n",
    "    selection = int(input(\"Choose number option: 1=Get keys 2=Encode 3=Decode 4=Text to ASCII 5=ASCII to text \"))\n",
    "    if  selection == 1:\n",
    "        print(\"Get keys: \")\n",
    "        p = int(input(\"Enter first prime number: \"))\n",
    "        q = int(input(\"Enter second prime number: \"))\n",
    "        n = p * q\n",
    "        phi_n = (p - 1) * (q - 1)\n",
    "        e = Find_Public_Key_e(q, p)\n",
    "        print(\"Public key n =\", n, )\n",
    "        print(\"Public Key e =\",Find_Public_Key_e(q, p))\n",
    "        print(\"Private Key d =\",Find_Private_Key_d(phi_n, e))\n",
    "\n",
    "    elif selection == 2:\n",
    "        ascii_value = int(input(\"Enter ASCII value of message = \"))\n",
    "        n = int(input(\"Enter value of n = \"))\n",
    "        e = int(input(\"Enter value of e = \"))\n",
    "        print(\"Encoded message =\", power(ascii_value, e, n))\n",
    "\n",
    "    elif selection == 3:\n",
    "        cipher_text = int(input(\"Enter value of cipher_text = \"))\n",
    "        n = 738821\n",
    "        d = 670091\n",
    "        print(\"Decoded message =\", power(cipher_text, d, n))\n",
    "    \n",
    "    elif selection == 4:\n",
    "        _string = input(\"Enter text string to convert to ASCII value: \")\n",
    "        print(Convert_Text(_string))\n",
    "\n",
    "    elif selection == 5:\n",
    "        print (\"Enter ASCII values in list [] to convert to text: \")\n",
    "        # Enter ASCII values inside []\n",
    "        _list = [80, 105, 99, 107, 32, 97, 32, 99, 97, 114, 100, 44, 32, 97, 110, 121, 32, 99, 97, 114, 100, 46, 46, 46]\n",
    "        Convert_Num = ''.join([chr(ascii) for ascii in _list])\n",
    "        print(Convert_Num)\n",
    "\n",
    "    else:\n",
    "        main()\n",
    "\n",
    "if __name__ == \"__main__\": # Call main function\n",
    "    main()"
   ]
  },
  {
   "cell_type": "markdown",
   "metadata": {},
   "source": [
    "If you create a custom main function or a script to read codes as your CUSTOM FEATURE, you may include it here with a large heading CUSTOM FEATURE:"
   ]
  },
  {
   "cell_type": "markdown",
   "metadata": {},
   "source": [
    "### 5. **Insert Narrative (ONE OR TWO pages of meaningful narrative about your process - not including the examples) here in this block. **\n",
    "\n",
    "* Describe the results of SPECIFIC exchanging keys and codes with classmates. (at least 3 complete examples).\n",
    "\n",
    "* What was challenging? \n",
    "\n",
    "* Who helped you with your project? \n",
    "\n",
    "* Which resources were most helpful?\n",
    "\n",
    "* What was your Best Mistake, (funniest? most frustrating? the one you learned the most from?)\n",
    "\n",
    "* Again, be sure to include results and a discussion of specific exchanges with others.\n",
    "\n",
    "\n",
    "\n"
   ]
  },
  {
   "attachments": {},
   "cell_type": "markdown",
   "metadata": {},
   "source": [
    "\"\"\"\n",
    "Example 1: Student 1\n",
    "\n",
    "Public key (n, e): (47959, 109)\n",
    "Private key d: 35749 \n",
    "\n",
    "Encoded message = [15115, 14887, 35173, 23104, 29742, 8486, 18913, 12922, 16512, 23104, 8486, 18913, 44659, 16512]\n",
    "\n",
    "Decoded message = E.T. phone home\n",
    "\n",
    "Encoded response by Student = [14675, 23104, 8486, 45897, 44193, 16512, 23104, 12922, 16512, 44193, 16512, 19804, 23104, 35176, 45897, 36109, 30495, 8486, 16512, 22837, 23104, 36109, 8486, 45897, 36109, 23104, 18913, 12922, 16512, 23104, 24549, 19804, 18913, 44659, 23104, 8806, 36109, 45897, 19804, 36109, 23104, 36109, 18913, 23104, 24549, 31709, 12922, 31709, 8806, 8486, 23104, 31709, 24549, 23104, 35547, 18913, 824, 23104, 30495, 45897, 12922, 23104, 42989, 16512, 29937, 31709, 16512, 44193, 16512, 23104, 31709, 36109, 14887, 23104, 23104, 15115, 44193, 16512, 12922, 23104, 36109, 8486, 18913, 824, 44690, 8486, 23104, 14675, 28686, 44659, 23104, 45897, 23104, 30495, 8486, 31709, 29937, 22837, 23104, 18913, 24549, 23104, 36109, 8486, 16512, 23104, 16512, 31709, 44690, 8486, 36109, 31709, 16512, 8806]\n",
    "\n",
    "ASCII response = [73, 32, 104, 97, 118, 101, 32, 110, 101, 118, 101, 114, 32, 119, 97, 116, 99, 104, 101, 100, 32, 116, 104, 97, 116, 32, 111, 110, 101, 32, 102, 114, 111, 109, 32, 115, 116, 97, 114, 116, 32, 116, 111, 32, 102, 105, 110, 105, 115, 104, 32, 105, 102, 32, 121, 111, 824, 32, 99, 97, 110, 32, 98, 101, 108, 105, 101, 118, 101, 32, 105, 116, 46, 32, 32, 15115, 118, 101, 110, 32, 116, 104, 111, 824, 103, 104, 32, 73, 39, 109, 32, 97, 32, 99, 104, 105, 108, 100, 32, 111, 102, 32, 116, 104, 101, 32, 101, 105, 103, 104, 116, 105, 101, 115]\n",
    "\n",
    "Decoded message = I have never watched that one from start to finish if you can believe it, even though I'm a child of the eighties\n",
    "\n",
    "\n",
    "\n",
    "Example 2: Student 2\n",
    "\n",
    "Public key (n, e) = (5251, 3)\n",
    "Private key d = 3403 \n",
    "\n",
    "Encoded message = [2128, 1150, 4250, 1349, 1262, 3336, 2371, 2497, 519, 1262, 1263, 1105, 3336, 1349, 1262, 2310, 1105, 3336, 4115, 762, 2405, 1263, 1105, 3336, 1262, 1349, 1150, 1105, 1262, 506, 1105, 1105, 4723, 2405, 2497, 519, 1262, 1974, 2371, 58, 1262, 519, 1105, 1349, 1262, 4839, 1150, 1105, 2497, 1262, 1974, 2371, 58, 762, 1262, 13, 4679, 1573, 1262, 4115, 2371, 2310, 1105, 1262, 2405, 3336, 1262, 4839, 2371, 762, 1560, 2405, 2497, 519, 3250]\n",
    "\n",
    "Encoded ASCII = [87, 104, 97, 116, 32, 115, 111, 110, 103, 32, 98, 101, 113, 116, 32, 100, 101, 115, 99, 114, 105, 98, 101, 115, 32, 116, 104, 101, 32, 102, 101, 108, 105, 110, 103, 32, 121, 111, 117, 32, 103, 101, 116, 32, 119, 104, 101, 110, 32, 121, 111, 117, 32, 82, 83, 65, 32, 99, 3271, 100, 101, 32, 105, 115, 32, 119, 111, 114, 107, 105, 110, 103, 63]\n",
    "\n",
    "Decoded message = What song best describes the feeling you get when you RSA code is working?\n",
    "\n",
    "Response message = Riptide\n",
    "\n",
    "ASCII response = [82, 105, 112, 116, 105, 100, 101]\n",
    "\n",
    "Decoded response = [13, 2405, 2911, 1349, 2405, 2310, 1105]\n",
    "\n",
    "\n",
    "\n",
    "Example 3: Student 3\n",
    "\n",
    "Public key (n, e): (16019, 5)\n",
    "Private key d: 3149\n",
    "\n",
    "Encoded message = [9490, 2410, 2889, 8612, 10646, 13774, 3342, 10646, 4447, 3223, 11931, 12660, 10646, 624, 2889, 10680, 3223, 12660, 13774, 8612, 2563, 10646, 6068, 3223, 10680, 13774, 2563, 11436]\n",
    "\n",
    "Encoded ASCII = [87, 104, 97, 116, 32, 105, 115, 32, 121, 111, 117, 114, 32, 102, 97, 118, 111, 114, 105, 116, 116, 101, 32, 109, 111, 118, 105, 101, 63]\n",
    "\n",
    "Decoded message = What is your favorite movie?\n",
    "\n",
    "Response message = Pianist\n",
    "\n",
    "ASCII response = [80, 105, 97, 110, 105, 115, 116]\n",
    "\n",
    "Encoded response = [1417, 13774, 2889, 13894, 13774, 3342, 8612]\n",
    "\n",
    "\n",
    "\n",
    "The process of building an RSA program was a challenging one. My greatest setback was my limited experience with Python (other than having watched a few video lectures by Udemy and Codeacademy), as well as trying to figure out code that not only works, but also that is simple for anyone to follow. Even though I spent entire days putting this project together on my own, I found Mastery Workbooks 6 and 7, corresponding lectures, Piazza exchanges, and a some inspiration from not-so-well-explained YouTube videos to be treasure troves. All in all, it was a true trial-and-error process. My most memorable mistake was trying to come up with code that would convert an entire list of ASCII values into a separate list of encoded numbers, when the guidelines only required that the messages were encoded and decoded letter by letter. Another notable challenge was trying to come up with a code that would allow me factorize a prime number. By the same token, I spent more time that I would have liked factorizing large numbers, until I realized that I was using variable n instead of phi n in order to find private key d. These setbacks ended up costing me three precious days of my time. Nevertheless, I also see it as an opportunity because I also learned a lot about Python am sure that when diving into the learning of program itself, I should have a better experience.\n",
    "\"\"\""
   ]
  },
  {
   "cell_type": "markdown",
   "metadata": {},
   "source": [
    "### 6. FME Exploration - (CODE INTERVIEW type question)\n",
    "\n",
    "\n",
    "\n",
    "* Explain in detail (give an example) why RSA needs to use an FME function and cannot just simply use the Python Mod function % .\n",
    "\n",
    "* You may use your arguments from the Number theory Mastery Workbook.\n",
    "\n",
    "* You may wish to use an example from code breaking.\n"
   ]
  },
  {
   "cell_type": "markdown",
   "metadata": {},
   "source": [
    "\"\"\"\n",
    "RSA needs to use a Fast Modular Exponentiation (FME) function because simply trying to encode or decode very large numbers could result in the program taking an extremely long time to compile, never compiling, or even crashing. For the sake of simplicity, compare both process and call the first FME and the second FakeFME. \n",
    "\n",
    "Now, we can choose a modulo expression at random. For example, let’s take the expression 5^n mod 17. At every new trial, concatenate to n the next highest integer in chronological order. That is to say, start with n = 0, then n = 1, then n = 12, then n = 123, and so on until you have reached ten digits for n.\n",
    "\n",
    "All else being equal, notice that when n = 123, as in 5^123 mod 17, the result in the FME program output the answer 11 but the FakeFME output the answer 11L, even though the termination time was about the same. The L in FakeFME stands for larger numbers, so we are now noticing that large numbers are starting to affect the simple mod function %.\n",
    "\n",
    "As we keep increasing the number of digits for n, see the result for FME and FakeFME look alike, with the exception of the L next to solutions of the latter, and how there is still no noticeable difference in the termination time. Moreover, when trying eight digits for n, as in 5^12345678 mod 17, see how the termination time increases significantly from around 0.040 seconds to 0.287 seconds. At this point, we can realize the efficiency of FME as compared to FakeFME.\n",
    "\n",
    "Finally, as we test nine digits for n, as in 5^123456789 mod 17, we end up with a termination time of 0.039 second for FME and 10.094 second for FakeFME; when testing ten digits, FakeFME does not compile at all, whereas FME terminates in 0.036 second with the result 14. Thus, we can conclude that the FME algorithm is significantly more effective than the regular modulo method.\n",
    "\"\"\""
   ]
  },
  {
   "cell_type": "markdown",
   "metadata": {},
   "source": [
    "## CODE BREAKING ##\n",
    "\n",
    "This section of the project is only available to students exchanging codes by the Friday (midnight) before the project is due.\n",
    "\n",
    "After you have tested your RSA package yourself, and tested it with classmates by publishing both the private and public keys on Piazza, post 2 messages with just the public keys for people to break on the \"Just Public Keys\" thread - use both very small n ‘s (under 1000) for practice, and some with a challenge.\n",
    "\n",
    "\n",
    "**Implementing a factoring algorithm:**\n",
    "\n",
    "Begin by coding the basic brute force factorization algorithm given in pseudocode below.\n",
    "\n",
    "Brute Force Factoring\n",
    "<pre><code>def factorize(n):\n",
    "    # n is a number, return the smallest factor of n\n",
    "    for i from 2 to n-1:\n",
    "        if i divides n:\n",
    "            return i\n",
    "        return FALSE\n",
    "        </code></pre>\n"
   ]
  },
  {
   "cell_type": "code",
   "execution_count": 80,
   "metadata": {},
   "outputs": [
    {
     "name": "stdout",
     "output_type": "stream",
     "text": [
      "Enter prime number you would like to factorize:  121\n"
     ]
    },
    {
     "name": "stdout",
     "output_type": "stream",
     "text": [
      " 11 is a factor of 121\n"
     ]
    }
   ],
   "source": [
    "prime_number = int(input(\"Enter prime number you would like to factorize: \"))\n",
    "a = 1 # Represent highest prime factor with a\n",
    "\n",
    "while (a <= prime_number): # Prime number must be greater than or equal to its lowest prime factor\n",
    "    num = 0 # Otherwise return 0\n",
    "    if (prime_number % a == 0): # Find highest prime factor\n",
    "        b = 1 # Represent lowest prime factor with b\n",
    "        while (b <= a): # Lowest prime factor b must be less than or equal to highest prime factor a\n",
    "            if (a % b == 0):\n",
    "                num = num + 1\n",
    "            b = b + 1 # Find each prime factor b\n",
    "\n",
    "        if (num == 2):\n",
    "            print(\" %d is a factor of %d\" % (a, prime_number)) # Return each factor in a separate line\n",
    "    a = a + 1 # Find each prime factor a"
   ]
  },
  {
   "cell_type": "markdown",
   "metadata": {},
   "source": [
    "### 7. Do the following for full credit in number 7\n",
    "* To break others’ code you just need to factor n (public key). **Explain how and why code breaking works in a text block.**\n",
    "\n",
    "* Demonstrate 1 example of breaking a code with a small n, and show the steps involved.\n",
    "\n",
    "* Now attempt codes with larger n\n",
    "\n",
    "* Describe your attempt to break codes with large n. At what values would you say n's get difficult? (too large to factor)\n",
    "\n",
    "* Show COMPLETELY at least 3 codes you broke and/or codes of your that were broken.\n",
    "\n",
    "\n",
    "\n"
   ]
  },
  {
   "attachments": {},
   "cell_type": "markdown",
   "metadata": {},
   "source": [
    "\"\"\"\n",
    "Factorization works by taking a prime number and finding the only two possible prime factors that multiplied together give you the initial prime number. Let’s recall that a prime number is exclusively composed of two other prime numbers (factors).\n",
    "\n",
    "As predicted by my explanation on fast modular exponentiation, codes start to have a time delay when the value of n has eight or more digits. Anything over that, exponentially increases the wait time. Nevertheless, FME is still the better choices as compared to regular modulo.\n",
    "\n",
    "\n",
    "\n",
    "Example 1 (small n): Student 1\n",
    "\n",
    "Public key (n, e): (703, 113)\n",
    "\n",
    "Encoded message =\n",
    "[544, 472, 233, 242, 250, 555, 591, 550, 376, 364, 210, 165, 526, 47, 555, 95, 476, 210, 242, 165, 95, 233, 526, 210, 376, 95, 233, 242, 364, 210, 242, 224, 376, 95, 364, 233, 47, 242, 210, 555, 376, 165, 472, 242, 555, 410, 242, 250, 95, 233, 233, 47, 145]\n",
    "\n",
    "p = 37 and q = 19 by factoring of n = 113, thus private key d = 281\n",
    "\n",
    "ASCII message = [84, 104, 101, 32, 67, 111, 110, 113, 117, 105, 115, 116, 97, 47, 111, 114, 39, 115, 32, 116, 114, 101, 97, 115, 117, 114, 101, 32, 105, 115, 32, 98, 117, 114, 105, 101, 47, 32, 115, 111, 117, 116, 104, 32, 111, 102, 32, 67, 114, 101, 101, 47, 46]\n",
    "\n",
    "Decoded message = The Conquistador's treasure is buried south of Creed. \n",
    "\n",
    "\n",
    "\n",
    "Example 2 (large n): Student 2\n",
    "\n",
    "Public key (n, e): (3599, 149)\n",
    "\n",
    "Encoded message =\n",
    "[3408, 3311, 1421, 96, 1565, 2820, 1557, 96, 96, 1930, 1236, 1557, 1565, 1240, 1421, 501, 501, 1565, 96, 1557, 501, 308, 3252, 1195, 1557, 96, 783, 511, 1415, 69, 783, 1565, 1421, 615, 1565, 308, 1421, 1357, 1557, 1565, 96, 1557, 69, 2673, 615, 1195, 96, 1834]\n",
    "\n",
    "\n",
    "p = 61 and q = 59 by factoring of n = 149, thus private key d = 2429\n",
    "\n",
    "ASCII message =\n",
    "[84, 104, 105, 115, 581, 109, 101, 115, 115, 97, 103, 101, 581, 119, 105, 108, 108, 581, 115, 101, 108, 102, 2180, 100, 101, 115, 116, 114, 117, 99, 116, 581, 105, 110, 581, 102, 105, 118, 101, 581, 115, 101, 99, 111, 110, 100, 115, 46]\n",
    "\n",
    "Decoded message = ThisɅmessageɅwillɅselfࢄdestructɅinɅfiveɅseconds. \n",
    "\n",
    "\n",
    "\n",
    "Example 3 (large n): Student 3\n",
    "\n",
    "Public key (n, e): (738821, 11)\n",
    "\n",
    "Encoded message =\n",
    "[330912, 445934, 677067, 661579, 504771, 486067, 504771, 677067, 486067, 519886, 622523, 630020, 504771, 486067, 534139, 703278, 504771, 677067, 486067, 519886, 622523, 287073, 287073, 287073]\n",
    "\n",
    "\n",
    "p = 911 and q = 811 by factoring of n = 11, thus private key d = 670091\n",
    "\n",
    "ASCII message =\n",
    "[80, 105, 99, 107, 32, 97, 32, 99, 97, 114, 100, 44, 32, 97, 110, 121, 32, 99, 97, 114, 100, 46, 46, 46]\n",
    "\n",
    "\n",
    "Decoded message = Pick a card, any card...\n",
    "\n",
    "\n",
    "\n",
    "Example 4 (large n): Student 4\n",
    "p = 101, q = 71\n",
    "\n",
    "Public keys (n, e): (7171, 37)\n",
    "Private key d = 3973\n",
    "\n",
    "Original message = To be, or not to be…\n",
    "\n",
    "ASCII message = [84, 111, 32, 98, 101, 44, 32, 111, 114, 32, 110, 111, 116, 32, 116, 111, 32, 98, 101, 8230]\n",
    "\n",
    "Encoded message = [516850, 5363, 5213, 6977, 3030, 1685, 5213, 5363, 4689, 5213, 3094, 5363, 5930, 5213, 5930, 5363, 5213, 6977, 3030, 8230]\n",
    "\n",
    "\n",
    "\n",
    "Example 5 (large n): Student 5\n",
    "p = 101, q = 71\n",
    "\n",
    "Public keys (n, e): (7171, 37)\n",
    "Private key d = 3973\n",
    "\n",
    "Original message = What’s your favorite book?\n",
    "\n",
    "ASCII message = [87, 104, 97, 116, 8217, 115, 32, 121, 111, 117, 114, 32, 102, 97, 118, 111, 114, 105, 116, 101, 32, 98, 111, 111, 107, 63]\n",
    "\n",
    "Encoded message = [36977, 6153, 2732, 5930, 6952, 53637, 5213, 7115, 5363, 227, 4689, 5213, 2021, 2732, 418, 5363, 4689, 3530, 5930, 3030, 5213, 6977, 5363, 5363, 1580, 220]\n",
    "\"\"\""
   ]
  },
  {
   "cell_type": "markdown",
   "metadata": {},
   "source": [
    "\n",
    "## Custom Feature ##\n",
    "The last 15 points of the require a custom feature in your project. This is an opportinity for you to explore an RSA or coding topic of interest to you. At this point it is not about points, but exploring advanced ideas relevant to you.  This is also a feature that should be relevant to your programming ability. If you are in 1300, creating a main type function may be enough. If you are an experienced programmer, find a topic to push yourself. \n",
    "\n",
    "\n",
    "Custom Features could one or more of the following:\n",
    "\n",
    "1. A Python \"main\" function that allows a user to \"Get keys/Encode/Decode/Break Codes\" etc... \n",
    "2. An exploration of factoring improvements and analyze how effective they are. Must include some kind of timing analysis and multiple code breaking. A superficial treatment will not recieve full points. Must be throughly tested with excellent investigations to recieve full points.\n",
    "3. A script to read codes from Piazza data. You can copy and paste codes from Piazza into a txt files and then have your script read it. This is a VERY helpful tool for doing the project as well. \n",
    "4. Exploration of advanced factoring alogrithms (see Moodle) Try Pollard's Rho <- super satisfying. (full points if well - impemented with thoughtful examples)\n",
    "5. Advanced complexity analysis. \n",
    "6. Other options available, please ask. \n",
    "\n",
    "The Custom Feature is an important part of the project, and it should be a non-trivial response. \n",
    "Please help organize your Custom Feature by breaking it up into sections - ie. not one long block of text.\n",
    "Mininimally executed, \"dialling it in\" type features will not recieve full points. \n",
    "See below for more detials on grading of this section.\n",
    "\n",
    "\n",
    "\n",
    " \n",
    "\n",
    "\n"
   ]
  },
  {
   "cell_type": "code",
   "execution_count": 74,
   "metadata": {},
   "outputs": [
    {
     "name": "stdout",
     "output_type": "stream",
     "text": [
      "Choose number option: 1=Get keys 2=Encode 3=Decode 4=Text to ASCII 5=ASCII to text  5\n"
     ]
    },
    {
     "name": "stdout",
     "output_type": "stream",
     "text": [
      "Enter ASCII values in list [] to convert to text: \n",
      "Pick a card, any card...\n"
     ]
    }
   ],
   "source": [
    "# CUSTOME FEATURE - MAIN FUNCTION\n",
    "\n",
    "# THE DEFINED FUNCTIONS BELOW THIS LINE ARE NEEDED FOR MAIN FUNCTION\n",
    "# NOTICE THAT THE FUNCTIONS BEFORE AND AFTER THE MAIN FUNCTION ARE COPIES OF THE CODE BLOCKS SHOWN EARLIER\n",
    "# THE DEFINED HALVES ARE CONTAINED ABOVE THE MAIN FUNCTION, AND THE FUNCTION CALLS ARE AFTER\n",
    "\n",
    "# THIS PROGRAM WORKS BY CLICKING ON THE COMPILE BUTTON IN THE MENU ABOVE\n",
    "# YOU SHOULD SEE A FIVE-OPTION INTERACTIVE MENU DEPENDING ON YOUR NEEDS\n",
    "# IF YOU WOULD LIKE TO RE-RUN PROGRAM, CLICK CLICK SQUARE BUTTON NEXT TO COMPILE\n",
    "\n",
    "\n",
    "# Example 1: One of my encoded Piazza messages\n",
    "\n",
    "# 1. Compile the program and choose number option 4=Text to ASCII\n",
    "# 2. Enter phrase \"E.T. phone home\"\n",
    "# 3. You will get ASCII values [69, 46, 84, 46, 32, 112, 104, 111, 110, 101, 32, 104, 111, 109, 101] \n",
    "# 4. Compile the program and choose number option 1=Get keys\n",
    "# 5. Assign p = 241 and q = 199 (should be non identical, I like p > q, and negative values are hard to work with) \n",
    "# 6. You will get keys n = 47959, e = 109, and d = 35749 to share so someone else can decode message\n",
    "# 7. For simplicity, I have included n = 47959 and e = 109, so user does not need to enter them each time\n",
    "# 8. I found it very convenient to use the \"Find and Replace\" option in Microsoft Word to find the encoded values more quickly\n",
    "\n",
    "\n",
    "# Example 2: Decoding the response to my message above\n",
    "\n",
    "# 1. Student posted the following encoded message: [14675, 23104, 8486, 45897, 44193, 16512, 23104, 12922, 16512, 44193, 16512, 19804, 23104, 35176, 45897, 36109, 30495, 8486, 16512, 22837, 23104, 36109, 8486, 45897, 36109, 23104, 18913, 12922, 16512, 23104, 24549, 19804, 18913, 44659, 23104, 8806, 36109, 45897, 19804, 36109, 23104, 36109, 18913, 23104, 24549, 31709, 12922, 31709, 8806, 8486, 23104, 31709, 24549, 23104, 35547, 18913, 824, 23104, 30495, 45897, 12922, 23104, 42989, 16512, 29937, 31709, 16512, 44193, 16512, 23104, 31709, 36109, 14887, 23104, 23104, 15115, 44193, 16512, 12922, 23104, 36109, 8486, 18913, 824, 44690, 8486, 23104, 14675, 28686, 44659, 23104, 45897, 23104, 30495, 8486, 31709, 29937, 22837, 23104, 18913, 24549, 23104, 36109, 8486, 16512, 23104, 16512, 31709, 44690, 8486, 36109, 31709, 16512, 8806]\n",
    "# 2. I found no easy way to convert all encoded values into ASCII or text at once, so this must be done letter by letter\n",
    "# 3. Compile the program and choose number option 3=Decode\n",
    "# 4. Enter each individual value inside the brackets [] to get ASCII value\n",
    "# 5. For simplicity, I have included n = 47959 and d = 35749, so user does not need to enter them each time\n",
    "# 6. For example, encoded 14675 is equivalent to ASCII value 73\n",
    "# 7. I found it very convenient to use the \"Find and Replace\" option in Microsoft Word to find these values more quickly\n",
    "# 8. For example, you can replace all values 14675 for 73, and so on, until you are only left with ASCII values\n",
    "# 9. Paste the list of ASCII values into bracket assigned to \"_list\" under \"elif selection == 5\"\n",
    "#10. Compile the program and choose number option 5=ASCII to text\n",
    "#11. Student's decoded message is, \"I have never watched that one from start to finish if you can believe it, even though I'm a child of the eighties\"\n",
    "#12. Be careful when finding other user's private key d, as they may choose a different public key for e depending on their own RSA program, and you may end up needing the individual code boxes for public and private key presented in the beginning of this project\n",
    "#13. Make sure that you change both n and d when decoding a message\n",
    "\n",
    "def Find_Public_Key_e(p, q):\n",
    "    # Return public key e using phi and modulo\n",
    "    for e in range(1, p):\n",
    "        if (((p % q) * (e % q)) % q == 1):\n",
    "            return e\n",
    "    return -1\n",
    "\n",
    "def Find_Private_Key_d(phi_n, e):\n",
    "    # Return private key d using phi n and modulo\n",
    "    for d in range(1, phi_n):\n",
    "        if (((e % phi_n) * (d % phi_n)) % phi_n == 1):\n",
    "            return d\n",
    "    return -1\n",
    "\n",
    "def Convert_Text(_string):\n",
    "    # Convert and organize text string to ASCII values\n",
    "    Convert_Text = [ord(character) for character in _string]\n",
    "    return Convert_Text\n",
    "\n",
    "def Convert_Num(_list):\n",
    "    _string = ''  # Assing value to _string\n",
    "\n",
    "    # Convert each subsequent ASCII value to text\n",
    "    for i in _list:\n",
    "        _string += chr(i)\n",
    "    return _string\n",
    "\n",
    "def power(ascii_value, e, n): # Fast Modular Exponentiation using (message^n)%b\n",
    "    cipher_text = 1 # Initialize result variable\n",
    "    \n",
    "    # If square message is greater than or equal to mod n, assign message\n",
    "    ascii_value = ascii_value % n\n",
    "\n",
    "    if (ascii_value == 0):  # Message value must not be zero\n",
    "        return 0\n",
    "\n",
    "    while (e > 0):\n",
    "        if ((e & 1) == 1):\n",
    "            cipher_text = (cipher_text * ascii_value) % n # If n is odd, multiply a with result\n",
    "        e = e >> 1  # If n is even, then e = e/2\n",
    "        ascii_value = (ascii_value * ascii_value) % n # Modulo equation\n",
    "    return cipher_text\n",
    "\n",
    "\n",
    "def power(cipher_text, d, n): # Fast Modular Exponentiation using (cipher_text^d)%n\n",
    "    message = 1 # Initialize result variable\n",
    "    \n",
    "    # If square cipher_text is greater than or equal to mod n, assign cipher_text\n",
    "    cipher_text = cipher_text % n\n",
    "    \n",
    "    if (cipher_text == 0):  # cipher_text value must not be zero\n",
    "        return 0\n",
    "\n",
    "    while (d > 0):\n",
    "        if ((d & 1) == 1):\n",
    "            message = (message * cipher_text) % n # If d is odd, multiply a with result\n",
    "        d = d >> 1  # If d is even, then d = d/2\n",
    "        cipher_text = (cipher_text * cipher_text) % n # Modulo equation\n",
    "    return message\n",
    "\n",
    "\n",
    "\n",
    "# BELOW THIS LINE IS THE MAIN FUNCTION THAT CALL ON FUNCTIONS ABOVE #\n",
    "\n",
    "def main():\n",
    "    selection = int(input(\"Choose number option: 1=Get keys 2=Encode 3=Decode 4=Text to ASCII 5=ASCII to text \"))\n",
    "    if  selection == 1:\n",
    "        print(\"Get keys: \")\n",
    "        p = int(input(\"Enter first prime number: \"))\n",
    "        q = int(input(\"Enter second prime number: \"))\n",
    "        n = p * q\n",
    "        phi_n = (p - 1) * (q - 1)\n",
    "        e = Find_Public_Key_e(q, p)\n",
    "        print(\"Public key n =\", n, )\n",
    "        print(\"Public Key e =\",Find_Public_Key_e(q, p))\n",
    "        print(\"Private Key d =\",Find_Private_Key_d(phi_n, e))\n",
    "\n",
    "    elif selection == 2:\n",
    "        ascii_value = int(input(\"Enter ASCII value of message = \"))\n",
    "        n = int(input(\"Enter value of n = \"))\n",
    "        e = int(input(\"Enter value of e = \"))\n",
    "        print(\"Encoded message =\", power(ascii_value, e, n))\n",
    "\n",
    "    elif selection == 3:\n",
    "        cipher_text = int(input(\"Enter value of cipher_text = \"))\n",
    "        n = 738821\n",
    "        d = 670091\n",
    "        print(\"Decoded message =\", power(cipher_text, d, n))\n",
    "    \n",
    "    elif selection == 4:\n",
    "        _string = input(\"Enter text string to convert to ASCII value: \")\n",
    "        print(Convert_Text(_string))\n",
    "\n",
    "    elif selection == 5:\n",
    "        print (\"Enter ASCII values in list [] to convert to text: \")\n",
    "        # Enter ASCII values inside []\n",
    "        _list = [80, 105, 99, 107, 32, 97, 32, 99, 97, 114, 100, 44, 32, 97, 110, 121, 32, 99, 97, 114, 100, 46, 46, 46]\n",
    "        Convert_Num = ''.join([chr(ascii) for ascii in _list])\n",
    "        print(Convert_Num)\n",
    "\n",
    "    else:\n",
    "        main()\n",
    "\n",
    "if __name__ == \"__main__\": # Call main function\n",
    "    main()"
   ]
  }
 ],
 "metadata": {
  "kernelspec": {
   "display_name": "Python 3 (ipykernel)",
   "language": "python",
   "name": "python3"
  },
  "language_info": {
   "codemirror_mode": {
    "name": "ipython",
    "version": 3
   },
   "file_extension": ".py",
   "mimetype": "text/x-python",
   "name": "python",
   "nbconvert_exporter": "python",
   "pygments_lexer": "ipython3",
   "version": "3.10.5"
  }
 },
 "nbformat": 4,
 "nbformat_minor": 4
}
